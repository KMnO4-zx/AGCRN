{
 "cells": [
  {
   "cell_type": "code",
   "execution_count": 1,
   "metadata": {},
   "outputs": [],
   "source": [
    "import torch\n",
    "import torch.nn.functional as F\n",
    "import torch.nn as nn\n",
    "import numpy as np\n",
    "import matplotlib.pyplot as plt\n",
    "import pandas as pd"
   ]
  },
  {
   "cell_type": "code",
   "execution_count": 2,
   "metadata": {},
   "outputs": [],
   "source": [
    "class AVWGCN(nn.Module):\n",
    "    def __init__(self, dim_in, dim_out, cheb_k, embed_dim):\n",
    "        super(AVWGCN, self).__init__()\n",
    "        self.cheb_k = cheb_k  # Chebyshev卷积的阶数\n",
    "        self.weights_pool = nn.Parameter(torch.FloatTensor(embed_dim, cheb_k, dim_in, dim_out))  # 学习得到的权重参数，用于Chebyshev卷积\n",
    "        self.bias_pool = nn.Parameter(torch.FloatTensor(embed_dim, dim_out))  # 学习得到的偏置参数，用于Chebyshev卷积\n",
    "\n",
    "    def forward(self, x, node_embeddings):\n",
    "        # x的形状为 [B, N, C]，表示输入的节点特征；node_embeddings的形状为 [N, D]，表示节点的嵌入特征\n",
    "        # supports的形状为 [N, N]，表示节点之间的邻接关系\n",
    "        node_num = node_embeddings.shape[0]  # 节点的数量\n",
    "        supports = F.softmax(F.relu(torch.mm(node_embeddings, node_embeddings.transpose(0, 1))), dim=1)  # 计算节点之间的邻接关系\n",
    "        support_set = [torch.eye(node_num).to(supports.device), supports]  # 将自连接和计算得到的邻接关系添加到支持集中\n",
    "\n",
    "        # 计算Chebyshev多项式的值，形成支持集\n",
    "        for k in range(2, self.cheb_k):\n",
    "            support_set.append(torch.matmul(2 * supports, support_set[-1]) - support_set[-2])\n",
    "        supports = torch.stack(support_set, dim=0)\n",
    "\n",
    "        # 计算权重和偏置\n",
    "        weights = torch.einsum('nd,dkio->nkio', node_embeddings, self.weights_pool)  # 计算权重\n",
    "        bias = torch.matmul(node_embeddings, self.bias_pool)  # 计算偏置\n",
    "\n",
    "        # 执行Chebyshev卷积操作\n",
    "        x_g = torch.einsum(\"knm,bmc->bknc\", supports, x)  # 将输入节点特征与邻接关系相乘，得到支持集\n",
    "        x_g = x_g.permute(0, 2, 1, 3)  # 调整维度顺序\n",
    "        x_gconv = torch.einsum('bnki,nkio->bno', x_g, weights) + bias  # 执行Chebyshev卷积操作并加上偏置\n",
    "        return x_gconv  # 返回Chebyshev卷积的结果"
   ]
  },
  {
   "cell_type": "code",
   "execution_count": 3,
   "metadata": {},
   "outputs": [
    {
     "name": "stdout",
     "output_type": "stream",
     "text": [
      "输出结果形状: torch.Size([2, 5, 4])\n"
     ]
    }
   ],
   "source": [
    "# 假设输入的节点特征维度为3，输出的节点特征维度为4，Chebyshev卷积的阶数为3，节点嵌入特征维度为5\n",
    "dim_in = 3\n",
    "dim_out = 4\n",
    "cheb_k = 3\n",
    "embed_dim = 5\n",
    "\n",
    "# 创建AVWGCN模型实例\n",
    "model = AVWGCN(dim_in, dim_out, cheb_k, embed_dim)\n",
    "\n",
    "# 生成测试数据\n",
    "# 假设有2个样本，每个样本包含5个节点，每个节点有3维特征\n",
    "x = torch.randn(2, 5, 3)\n",
    "# 假设节点嵌入特征维度为5\n",
    "node_embeddings = torch.randn(5, 5)\n",
    "\n",
    "# 执行前向传播\n",
    "output = model(x, node_embeddings)\n",
    "\n",
    "# 打印输出结果的形状\n",
    "print(\"输出结果形状:\", output.shape)"
   ]
  },
  {
   "cell_type": "code",
   "execution_count": 9,
   "metadata": {},
   "outputs": [],
   "source": [
    "class AGCRNCell(nn.Module):\n",
    "    def __init__(self, node_num, dim_in, dim_out, cheb_k, embed_dim):\n",
    "        super(AGCRNCell, self).__init__()\n",
    "        self.node_num = node_num  # 节点数量\n",
    "        self.hidden_dim = dim_out  # 隐藏状态维度\n",
    "        self.gate = AVWGCN(dim_in+self.hidden_dim, 2*dim_out, cheb_k, embed_dim)  # 更新门和重置门\n",
    "        self.update = AVWGCN(dim_in+self.hidden_dim, dim_out, cheb_k, embed_dim)  # 候选状态更新\n",
    "\n",
    "    def forward(self, x, state, node_embeddings):\n",
    "        # x的形状为 [B, num_nodes, input_dim]\n",
    "        # state的形状为 [B, num_nodes, hidden_dim]\n",
    "        state = state.to(x.device)\n",
    "        input_and_state = torch.cat((x, state), dim=-1)  # 将输入和隐藏状态连接起来\n",
    "        z_r = torch.sigmoid(self.gate(input_and_state, node_embeddings))  # 计算更新门和重置门的值\n",
    "        z, r = torch.split(z_r, self.hidden_dim, dim=-1)  # 将输出切分为更新门和重置门\n",
    "        candidate = torch.cat((x, z*state), dim=-1)  # 计算候选状态\n",
    "        hc = torch.tanh(self.update(candidate, node_embeddings))  # 更新候选状态\n",
    "        h = r*state + (1-r)*hc  # 计算最终的隐藏状态\n",
    "        return h  # 返回隐藏状态 -> [B, num_nodes, hidden_dim/dim_out]\n",
    "\n",
    "    def init_hidden_state(self, batch_size):\n",
    "        # 初始化隐藏状态\n",
    "        return torch.zeros(batch_size, self.node_num, self.hidden_dim)\n"
   ]
  },
  {
   "cell_type": "code",
   "execution_count": 10,
   "metadata": {},
   "outputs": [
    {
     "name": "stdout",
     "output_type": "stream",
     "text": [
      "输出结果形状: torch.Size([2, 5, 4])\n"
     ]
    }
   ],
   "source": [
    "# 假设节点数量为5，输入特征维度为3，输出特征维度为4，Chebyshev卷积的阶数为3，节点嵌入特征维度为5\n",
    "node_num = 5\n",
    "dim_in = 3\n",
    "dim_out = 4\n",
    "cheb_k = 3\n",
    "embed_dim = 5\n",
    "\n",
    "# 创建AGCRNCell模型实例\n",
    "model = AGCRNCell(node_num, dim_in, dim_out, cheb_k, embed_dim)\n",
    "\n",
    "# 生成测试数据\n",
    "# 假设有2个样本，每个样本包含5个节点，每个节点有3维特征\n",
    "x = torch.randn(2, 5, 3)\n",
    "# 初始隐藏状态，假设有2个样本，每个样本包含5个节点，每个节点有4维隐藏状态\n",
    "state = model.init_hidden_state(2)\n",
    "# 假设节点嵌入特征维度为5\n",
    "node_embeddings = torch.randn(5, 5)\n",
    "\n",
    "# 执行前向传播\n",
    "output = model(x, state, node_embeddings)\n",
    "\n",
    "# 打印输出结果的形状\n",
    "print(\"输出结果形状:\", output.shape)"
   ]
  },
  {
   "cell_type": "code",
   "execution_count": 12,
   "metadata": {},
   "outputs": [],
   "source": [
    "class AVWDCRNN(nn.Module):\n",
    "    def __init__(self, node_num, dim_in, dim_out, cheb_k, embed_dim, num_layers=1):\n",
    "        super(AVWDCRNN, self).__init__()\n",
    "        assert num_layers >= 1, 'At least one DCRNN layer in the Encoder.'\n",
    "        self.node_num = node_num  # 节点数量\n",
    "        self.input_dim = dim_in  # 输入特征维度\n",
    "        self.num_layers = num_layers  # DCRNN层数\n",
    "        self.dcrnn_cells = nn.ModuleList()\n",
    "        self.dcrnn_cells.append(AGCRNCell(node_num, dim_in, dim_out, cheb_k, embed_dim))  # 第一个DCRNN层\n",
    "        for _ in range(1, num_layers):\n",
    "            self.dcrnn_cells.append(AGCRNCell(node_num, dim_out, dim_out, cheb_k, embed_dim))  # 其他DCRNN层\n",
    "\n",
    "    def forward(self, x, init_state, node_embeddings):\n",
    "        # x形状: (B, T, N, D)\n",
    "        # init_state形状: (num_layers, B, N, hidden_dim)\n",
    "        assert x.shape[2] == self.node_num and x.shape[3] == self.input_dim\n",
    "        seq_length = x.shape[1]\n",
    "        current_inputs = x\n",
    "        output_hidden = []\n",
    "        for i in range(self.num_layers):\n",
    "            state = init_state[i]\n",
    "            inner_states = []\n",
    "            for t in range(seq_length):\n",
    "                state = self.dcrnn_cells[i](current_inputs[:, t, :, :], state, node_embeddings)\n",
    "                inner_states.append(state)\n",
    "            output_hidden.append(state)\n",
    "            current_inputs = torch.stack(inner_states, dim=1)\n",
    "        # current_inputs: 最后一层的输出: (B, T, N, hidden_dim)\n",
    "        # output_hidden: 每层的最后状态: (num_layers, B, N, hidden_dim)\n",
    "        # last_state: (B, N, hidden_dim)\n",
    "        return current_inputs, output_hidden\n",
    "\n",
    "    def init_hidden(self, batch_size):\n",
    "        # 初始化隐藏状态\n",
    "        init_states = []\n",
    "        for i in range(self.num_layers):\n",
    "            init_states.append(self.dcrnn_cells[i].init_hidden_state(batch_size))\n",
    "        return torch.stack(init_states, dim=0)  # (num_layers, B, N, hidden_dim)\n"
   ]
  },
  {
   "cell_type": "code",
   "execution_count": 13,
   "metadata": {},
   "outputs": [
    {
     "name": "stdout",
     "output_type": "stream",
     "text": [
      "输出结果形状: torch.Size([2, 10, 5, 4])\n",
      "输出隐藏状态形状: torch.Size([2, 2, 5, 4])\n"
     ]
    }
   ],
   "source": [
    "# 假设节点数量为5，输入特征维度为3，输出特征维度为4，Chebyshev卷积的阶数为3，节点嵌入特征维度为5，DCRNN层数为2\n",
    "node_num = 5\n",
    "dim_in = 3\n",
    "dim_out = 4\n",
    "cheb_k = 3\n",
    "embed_dim = 5\n",
    "num_layers = 2\n",
    "\n",
    "# 创建AVWDCRNN模型实例\n",
    "model = AVWDCRNN(node_num, dim_in, dim_out, cheb_k, embed_dim, num_layers)\n",
    "\n",
    "# 生成测试数据\n",
    "# 假设有2个样本，每个样本包含10个时间步，每个时间步有5个节点，每个节点有3维特征\n",
    "x = torch.randn(2, 10, 5, 3)\n",
    "# 初始隐藏状态\n",
    "init_state = model.init_hidden(2)\n",
    "# 假设节点嵌入特征维度为5\n",
    "node_embeddings = torch.randn(5, 5)\n",
    "\n",
    "# 执行前向传播\n",
    "output, output_hidden = model(x, init_state, node_embeddings)\n",
    "\n",
    "# 打印输出结果的形状\n",
    "print(\"输出结果形状:\", output.shape)\n",
    "print(\"输出隐藏状态形状:\", torch.stack(output_hidden, dim=0).shape)"
   ]
  },
  {
   "cell_type": "code",
   "execution_count": 15,
   "metadata": {},
   "outputs": [],
   "source": [
    "class AGCRN(nn.Module):\n",
    "    def __init__(self, args):\n",
    "        super(AGCRN, self).__init__()\n",
    "        self.num_node = args.num_nodes  # 节点数量\n",
    "        self.input_dim = args.input_dim  # 输入特征维度\n",
    "        self.hidden_dim = args.rnn_units  # 隐藏状态维度\n",
    "        self.output_dim = args.output_dim  # 输出特征维度\n",
    "        self.horizon = args.horizon  # 预测步长\n",
    "        self.num_layers = args.num_layers  # 层数\n",
    "\n",
    "        self.default_graph = args.default_graph  # 默认图结构\n",
    "        self.node_embeddings = nn.Parameter(torch.randn(self.num_node, args.embed_dim), requires_grad=True)  # 节点嵌入\n",
    "\n",
    "        self.encoder = AVWDCRNN(args.num_nodes, args.input_dim, args.rnn_units, args.cheb_k,\n",
    "                                args.embed_dim, args.num_layers)  # 编码器\n",
    "\n",
    "        # 预测器\n",
    "        self.end_conv = nn.Conv2d(1, args.horizon * self.output_dim, kernel_size=(1, self.hidden_dim), bias=True)\n",
    "\n",
    "    def forward(self, source, targets, teacher_forcing_ratio=0.5):\n",
    "        # source: B, T_1, N, D\n",
    "        # targets: B, T_2, N, D\n",
    "\n",
    "        init_state = self.encoder.init_hidden(source.shape[0])  # 初始化隐藏状态\n",
    "        output, _ = self.encoder(source, init_state, self.node_embeddings)  # 编码器前向传播，得到输出和隐藏状态\n",
    "        output = output[:, -1:, :, :]  # 取最后一个时间步的输出，形状为 (B, 1, N, hidden)\n",
    "\n",
    "        # 基于CNN的预测器\n",
    "        output = self.end_conv(output)  # 卷积操作，形状为 (B, T*C, N, 1)\n",
    "        output = output.squeeze(-1).reshape(-1, self.horizon, self.output_dim, self.num_node)  # 调整形状\n",
    "        output = output.permute(0, 1, 3, 2)  # 形状调整为 (B, T, N, C)\n",
    "\n",
    "        return output  # 返回预测结果"
   ]
  },
  {
   "cell_type": "code",
   "execution_count": 16,
   "metadata": {},
   "outputs": [
    {
     "name": "stdout",
     "output_type": "stream",
     "text": [
      "输出结果形状: torch.Size([2, 10, 5, 4])\n"
     ]
    }
   ],
   "source": [
    "# 定义参数类\n",
    "class Args:\n",
    "    num_nodes = 5\n",
    "    input_dim = 3\n",
    "    rnn_units = 4\n",
    "    output_dim = 4\n",
    "    horizon = 10\n",
    "    num_layers = 2\n",
    "    cheb_k = 3\n",
    "    embed_dim = 5\n",
    "    default_graph = True\n",
    "\n",
    "# 创建参数实例\n",
    "args = Args()\n",
    "\n",
    "# 创建AGCRN模型实例\n",
    "model = AGCRN(args)\n",
    "\n",
    "# 生成测试数据\n",
    "# 假设有2个样本，每个样本包含10个时间步，每个时间步有5个节点，每个节点有3维特征\n",
    "source = torch.randn(2, 10, 5, 3)\n",
    "# 目标数据，假设有2个样本，每个样本包含10个时间步，每个时间步有5个节点，每个节点有2维特征\n",
    "targets = torch.randn(2, 10, 5, 2)\n",
    "\n",
    "# 执行前向传播\n",
    "output = model(source, targets)\n",
    "\n",
    "# 打印输出结果的形状\n",
    "print(\"输出结果形状:\", output.shape)"
   ]
  }
 ],
 "metadata": {
  "kernelspec": {
   "display_name": "nlp",
   "language": "python",
   "name": "python3"
  },
  "language_info": {
   "codemirror_mode": {
    "name": "ipython",
    "version": 3
   },
   "file_extension": ".py",
   "mimetype": "text/x-python",
   "name": "python",
   "nbconvert_exporter": "python",
   "pygments_lexer": "ipython3",
   "version": "3.10.12"
  }
 },
 "nbformat": 4,
 "nbformat_minor": 2
}
